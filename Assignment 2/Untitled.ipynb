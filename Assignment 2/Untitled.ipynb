{
 "cells": [
  {
   "cell_type": "markdown",
   "metadata": {},
   "source": [
    "Julien Owhadi\n",
    "11/12/2019"
   ]
  },
  {
   "cell_type": "code",
   "execution_count": null,
   "metadata": {},
   "outputs": [],
   "source": [
    "import matplotlib.pyplot as plt\n",
    "# import numpy as np\n",
    "import csv\n",
    "# import math\n",
    "from scipy.signal import find_peaks"
   ]
  },
  {
   "cell_type": "code",
   "execution_count": null,
   "metadata": {},
   "outputs": [],
   "source": [
    "toNum = lambda entry, ver=0: float(entry[0].split(\",\")[ver]) # returns the needed value (row like intensity or ppm)\n",
    "                                                             # from an index (column) in the excel sheet\n",
    "x_index = 1 # associated row in excel sheet\n",
    "y_index = 4 # associated row in excel sheet\n",
    "\n",
    "f1, ax1 = plt.subplots(1)"
   ]
  },
  {
   "cell_type": "markdown",
   "metadata": {},
   "source": [
    "LOAD DATA"
   ]
  },
  {
   "cell_type": "code",
   "execution_count": null,
   "metadata": {},
   "outputs": [],
   "source": [
    "# OPEN .csv FILE DATA AS A MULTIDIMENSIONAL LIST:\n",
    "with open('nanoparticle_scattering_data_rev.csv', newline='') as csvfile:\n",
    "    data = list(csv.reader(csvfile, delimiter=' ', quotechar='|'))\n",
    "\n",
    "    references = [] # a dictionary composed of particle concentration, start index, and end index for comprehensibility\n",
    "    temp_ppm = toNum(data[1])\n",
    "    previous_index = 1\n",
    "    for i in range(1,len(data)):\n",
    "        row = data[i]\n",
    "        if temp_ppm != toNum(row):\n",
    "            references.append({'ppm': toNum(row), 'start': previous_index,'end': i})\n",
    "            temp_ppm = toNum(row)\n",
    "            previous_index = i\n",
    "references.append({'ppm': toNum(row), 'start': previous_index,'end': i})\n",
    "references.pop(0)"
   ]
  },
  {
   "cell_type": "markdown",
   "metadata": {},
   "source": [
    "Plot Intensity vs PPM"
   ]
  },
  {
   "cell_type": "code",
   "execution_count": null,
   "metadata": {},
   "outputs": [],
   "source": [
    "peaks = [None] * len(references)\n",
    "for lineCounter, line in enumerate(references): # lineCounter represents the index attached to each element (line) in references\n",
    "\n",
    "    if toNum(data[line['start']], 0) == 50 or True: # can set True to False if you only want to plot the line with ppm = 50ppm\n",
    "\n",
    "        ax1.plot([(toNum(data[i],x_index)) for i in range(line['start'],line['end'])],\n",
    "                 [(toNum(data[i],y_index)) for i in range(line['start'],line['end'])],\n",
    "                 label=line['ppm']) # plot lines\n",
    "\n",
    "        temp,_ = find_peaks(#list(map(lambda el: toNum(el, x_index) , data[line['start']:line['end']])),\n",
    "                           list(map(lambda el: toNum(el, y_index), data[line['start']:line['end']])),\n",
    "                            prominence = .8) # find peaks\n",
    "        peaks[lineCounter] = list(temp)\n",
    "        color = [.2,.8,.9] # set color in RGB from [0-1 * 3]\n",
    "        peaks[lineCounter].append(0) # plot the initial peaks/'plateau'\n",
    "\n",
    "for lineCounter, line in enumerate(references):\n",
    "    for peak_index in peaks[lineCounter]: # plot the rest of the peaks\n",
    "        ax1.plot(toNum(data[peak_index + line['start']], x_index),\n",
    "                 toNum(data[peak_index+ line['start']], y_index), \"*\", color = color)\n",
    "\n",
    "ax1.set_xlabel('q (1/A)')\n",
    "ax1.set_ylabel('mean background-subtracted intensity [a.u.]')\n",
    "\n",
    "ax1.set_title('q (1/A) v.s. bkdg-sub\\nintensity for SiO2 NP in H2O')\n",
    "\n",
    "ax1.legend(\"concentration(ppm)\", loc=\"upper right\")\n",
    "f1.suptitle('test title', fontsize=20)\n",
    "\n",
    "ax1.set_xscale('log')\n",
    "ax1.set_yscale('log')\n",
    "\n",
    "'''\n",
    "ax.tick_params(axis='both', which='major', labelsize=tk_fs)\n",
    "    # Save figure\n",
    "    if save_path:\n",
    "        plt.savefig(save_path, bbox_inches='tight')\n",
    "'''\n",
    "\n",
    "plt.show()"
   ]
  },
  {
   "cell_type": "code",
   "execution_count": null,
   "metadata": {},
   "outputs": [],
   "source": []
  },
  {
   "cell_type": "code",
   "execution_count": null,
   "metadata": {},
   "outputs": [],
   "source": []
  },
  {
   "cell_type": "code",
   "execution_count": null,
   "metadata": {},
   "outputs": [],
   "source": []
  }
 ],
 "metadata": {
  "kernelspec": {
   "display_name": "Python 3",
   "language": "python",
   "name": "python3"
  }
 },
 "nbformat": 4,
 "nbformat_minor": 2
}
